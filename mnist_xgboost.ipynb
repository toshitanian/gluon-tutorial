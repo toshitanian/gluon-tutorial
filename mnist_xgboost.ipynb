{
 "cells": [
  {
   "cell_type": "code",
   "execution_count": 1,
   "metadata": {
    "collapsed": true
   },
   "outputs": [],
   "source": [
    "#https://qiita.com/msrks/items/e3e958c04a5167575c41#%E4%BD%BF%E3%81%84%E6%96%B9-2-%E5%88%86%E9%A1%9E%E3%83%A2%E3%83%87%E3%83%AB"
   ]
  },
  {
   "cell_type": "code",
   "execution_count": 16,
   "metadata": {
    "collapsed": true
   },
   "outputs": [],
   "source": [
    "import xgboost as xgb\n",
    "from sklearn.model_selection import GridSearchCV\n",
    "from sklearn.datasets import load_digits\n",
    "from sklearn.metrics import confusion_matrix, classification_report"
   ]
  },
  {
   "cell_type": "code",
   "execution_count": 17,
   "metadata": {
    "collapsed": true
   },
   "outputs": [],
   "source": [
    "# データ読み込み\n",
    "digits = load_digits()\n",
    "X_train, X_test = digits.data[:1000], digits.data[1000:]\n",
    "y_train, y_test = digits.target[:1000], digits.target[1000:]"
   ]
  },
  {
   "cell_type": "code",
   "execution_count": 18,
   "metadata": {
    "collapsed": true
   },
   "outputs": [],
   "source": [
    "# xgboostモデルの作成\n",
    "clf = xgb.XGBClassifier()"
   ]
  },
  {
   "cell_type": "code",
   "execution_count": 19,
   "metadata": {
    "collapsed": false
   },
   "outputs": [
    {
     "name": "stdout",
     "output_type": "stream",
     "text": [
      "Fitting 3 folds for each of 9 candidates, totalling 27 fits\n"
     ]
    },
    {
     "name": "stderr",
     "output_type": "stream",
     "text": [
      "[Parallel(n_jobs=1)]: Done  27 out of  27 | elapsed:   53.2s finished\n"
     ]
    },
    {
     "name": "stdout",
     "output_type": "stream",
     "text": [
      "{'max_depth': 2, 'n_estimators': 200} 0.882\n"
     ]
    }
   ],
   "source": [
    "# ハイパーパラメータ探索\n",
    "clf_cv = GridSearchCV(clf, {'max_depth': [2,4,6], 'n_estimators': [50,100,200]}, verbose=1)\n",
    "clf_cv.fit(X_train, y_train)\n",
    "print(clf_cv.best_params_, clf_cv.best_score_)"
   ]
  },
  {
   "cell_type": "code",
   "execution_count": 20,
   "metadata": {
    "collapsed": false
   },
   "outputs": [
    {
     "data": {
      "text/plain": [
       "XGBClassifier(base_score=0.5, booster='gbtree', colsample_bylevel=1,\n",
       "       colsample_bytree=1, gamma=0, learning_rate=0.1, max_delta_step=0,\n",
       "       max_depth=2, min_child_weight=1, missing=None, n_estimators=200,\n",
       "       n_jobs=1, nthread=None, objective='multi:softprob', random_state=0,\n",
       "       reg_alpha=0, reg_lambda=1, scale_pos_weight=1, seed=None,\n",
       "       silent=True, subsample=1)"
      ]
     },
     "execution_count": 20,
     "metadata": {},
     "output_type": "execute_result"
    }
   ],
   "source": [
    "clf = xgb.XGBClassifier(**clf_cv.best_params_)\n",
    "clf.fit(X_train, y_train)"
   ]
  },
  {
   "cell_type": "code",
   "execution_count": 21,
   "metadata": {
    "collapsed": false
   },
   "outputs": [
    {
     "name": "stdout",
     "output_type": "stream",
     "text": [
      "[[77  0  0  0  0  0  0  0  2  0]\n",
      " [ 0 63  0  2  3  0  0  0  1 11]\n",
      " [ 1  0 68  6  0  0  0  0  0  2]\n",
      " [ 0  2  0 65  0  1  0  2  9  0]\n",
      " [ 2  0  0  0 75  0  2  0  0  4]\n",
      " [ 0  1  0  0  0 78  2  0  0  1]\n",
      " [ 0  1  1  0  0  0 78  0  0  0]\n",
      " [ 0  0  0  0  1  1  0 77  1  0]\n",
      " [ 0  3  0  0  1  2  0  0 69  1]\n",
      " [ 2  0  0  0  0  3  0  1  2 73]]\n",
      "===\n",
      "             precision    recall  f1-score   support\n",
      "\n",
      "          0       0.94      0.97      0.96        79\n",
      "          1       0.90      0.79      0.84        80\n",
      "          2       0.99      0.88      0.93        77\n",
      "          3       0.89      0.82      0.86        79\n",
      "          4       0.94      0.90      0.92        83\n",
      "          5       0.92      0.95      0.93        82\n",
      "          6       0.95      0.97      0.96        80\n",
      "          7       0.96      0.96      0.96        80\n",
      "          8       0.82      0.91      0.86        76\n",
      "          9       0.79      0.90      0.84        81\n",
      "\n",
      "avg / total       0.91      0.91      0.91       797\n",
      "\n"
     ]
    }
   ],
   "source": [
    "# with best params\n",
    "pred = clf.predict(X_test)\n",
    "print(confusion_matrix(y_test, pred))\n",
    "print(\"===\")\n",
    "print(classification_report(y_test, pred))"
   ]
  },
  {
   "cell_type": "code",
   "execution_count": 22,
   "metadata": {
    "collapsed": false
   },
   "outputs": [
    {
     "name": "stdout",
     "output_type": "stream",
     "text": [
      "[[78  0  0  0  0  0  0  0  1  0]\n",
      " [ 0 66  0  3  2  0  0  0  1  8]\n",
      " [ 1  0 67  7  0  0  0  1  0  1]\n",
      " [ 0  3  1 64  0  2  0  2  7  0]\n",
      " [ 2  0  0  0 74  0  3  1  0  3]\n",
      " [ 0  1  0  0  0 77  2  0  0  2]\n",
      " [ 0  2  1  0  0  0 76  0  1  0]\n",
      " [ 0  0  0  0  0  2  0 77  1  0]\n",
      " [ 0  3  0  0  0  1  0  0 70  2]\n",
      " [ 2  0  0  0  0  4  0  0  2 73]]\n",
      "===\n",
      "             precision    recall  f1-score   support\n",
      "\n",
      "          0       0.94      0.99      0.96        79\n",
      "          1       0.88      0.82      0.85        80\n",
      "          2       0.97      0.87      0.92        77\n",
      "          3       0.86      0.81      0.84        79\n",
      "          4       0.97      0.89      0.93        83\n",
      "          5       0.90      0.94      0.92        82\n",
      "          6       0.94      0.95      0.94        80\n",
      "          7       0.95      0.96      0.96        80\n",
      "          8       0.84      0.92      0.88        76\n",
      "          9       0.82      0.90      0.86        81\n",
      "\n",
      "avg / total       0.91      0.91      0.91       797\n",
      "\n"
     ]
    }
   ],
   "source": [
    "# default params\n",
    "clf = xgb.XGBClassifier()\n",
    "clf.fit(X_train, y_train)\n",
    "pred = clf.predict(X_test)\n",
    "print(confusion_matrix(y_test, pred))\n",
    "print(\"===\")\n",
    "print(classification_report(y_test, pred))"
   ]
  },
  {
   "cell_type": "code",
   "execution_count": null,
   "metadata": {
    "collapsed": true
   },
   "outputs": [],
   "source": []
  },
  {
   "cell_type": "code",
   "execution_count": null,
   "metadata": {
    "collapsed": true
   },
   "outputs": [],
   "source": []
  }
 ],
 "metadata": {
  "kernelspec": {
   "display_name": "Python 3",
   "language": "python",
   "name": "python3"
  },
  "language_info": {
   "codemirror_mode": {
    "name": "ipython",
    "version": 3
   },
   "file_extension": ".py",
   "mimetype": "text/x-python",
   "name": "python",
   "nbconvert_exporter": "python",
   "pygments_lexer": "ipython3",
   "version": "3.6.0"
  }
 },
 "nbformat": 4,
 "nbformat_minor": 2
}
