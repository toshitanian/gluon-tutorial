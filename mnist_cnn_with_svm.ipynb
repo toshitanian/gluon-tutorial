{
 "cells": [
  {
   "cell_type": "code",
   "execution_count": 87,
   "metadata": {
    "collapsed": false
   },
   "outputs": [],
   "source": [
    "# https://github.com/EN10/KerasMNIST/blob/master/cnnPredict.py\n",
    "import requests\n",
    "import os\n",
    "\n",
    "url = 'https://github.com/EN10/KerasMNIST/blob/master/cnn.h5?raw=true'\n",
    "if not os.path.exists('model.h5'):\n",
    "    r = requests.get(url)\n",
    "    with open(\"model.h5\", 'wb') as f:\n",
    "        f.write(r.content)\n",
    "img_url = 'https://github.com/EN10/KerasMNIST/blob/master/test3.png?raw=true'\n",
    "if not os.path.exists('test_3.png'):\n",
    "    r = requests.get(img_url)\n",
    "    with open(\"test_3.png\", 'wb') as f:\n",
    "        f.write(r.content)"
   ]
  },
  {
   "cell_type": "code",
   "execution_count": 88,
   "metadata": {
    "collapsed": false
   },
   "outputs": [
    {
     "name": "stderr",
     "output_type": "stream",
     "text": [
      "/Users/kawasakitoshiya/.pyenv/versions/anaconda3-4.3.0/lib/python3.6/site-packages/keras/models.py:291: UserWarning: Error in loading the saved optimizer state. As a result, your model is starting with a freshly initialized optimizer.\n",
      "  warnings.warn('Error in loading the saved optimizer '\n"
     ]
    }
   ],
   "source": [
    "from keras.models import load_model\n",
    "model = load_model('model.h5')"
   ]
  },
  {
   "cell_type": "code",
   "execution_count": 89,
   "metadata": {
    "collapsed": false
   },
   "outputs": [
    {
     "name": "stdout",
     "output_type": "stream",
     "text": [
      "3\n"
     ]
    }
   ],
   "source": [
    "from scipy.misc import imread, imresize\n",
    "import numpy as np\n",
    "x = imread('test_3.png',mode='L')\n",
    "x = np.invert(x)\n",
    "#make it the right size\n",
    "x = imresize(x,(28,28))\n",
    "#convert to a 4D tensor to feed into our model\n",
    "x = x.reshape(1,28,28,1)\n",
    "x = x.astype('float32')\n",
    "x /= 255\n",
    "\n",
    "out = model.predict(x)\n",
    "print(np.argmax(out))"
   ]
  },
  {
   "cell_type": "code",
   "execution_count": 90,
   "metadata": {
    "collapsed": false
   },
   "outputs": [
    {
     "name": "stdout",
     "output_type": "stream",
     "text": [
      "_________________________________________________________________\n",
      "Layer (type)                 Output Shape              Param #   \n",
      "=================================================================\n",
      "conv2d_1 (Conv2D)            (None, 26, 26, 32)        320       \n",
      "_________________________________________________________________\n",
      "conv2d_2 (Conv2D)            (None, 24, 24, 64)        18496     \n",
      "_________________________________________________________________\n",
      "max_pooling2d_1 (MaxPooling2 (None, 12, 12, 64)        0         \n",
      "_________________________________________________________________\n",
      "dropout_1 (Dropout)          (None, 12, 12, 64)        0         \n",
      "_________________________________________________________________\n",
      "flatten_1 (Flatten)          (None, 9216)              0         \n",
      "_________________________________________________________________\n",
      "dense_1 (Dense)              (None, 128)               1179776   \n",
      "_________________________________________________________________\n",
      "dropout_2 (Dropout)          (None, 128)               0         \n",
      "_________________________________________________________________\n",
      "dense_2 (Dense)              (None, 10)                1290      \n",
      "=================================================================\n",
      "Total params: 1,199,882\n",
      "Trainable params: 1,199,882\n",
      "Non-trainable params: 0\n",
      "_________________________________________________________________\n",
      "None\n"
     ]
    }
   ],
   "source": [
    "print(model.summary())"
   ]
  },
  {
   "cell_type": "code",
   "execution_count": 91,
   "metadata": {
    "collapsed": false
   },
   "outputs": [
    {
     "name": "stdout",
     "output_type": "stream",
     "text": [
      "(1, 128)\n",
      "[[ 0.          0.          2.95871282  0.          0.42135167  0.42394322\n",
      "   4.52540684  3.74002266  0.          0.          0.          0.          0.\n",
      "   0.          0.          4.09314537  0.47893596  0.          3.43837309\n",
      "   5.90915871  0.          0.          5.62233591  0.          2.01469922\n",
      "   3.46936321  0.          0.          0.          0.82178652  3.98092747\n",
      "   0.          2.93021107  4.86831665  0.          2.46259332  0.\n",
      "   3.47192812  0.          5.48088789  0.          0.          0.          0.\n",
      "   0.          0.          3.58125329  1.33336794  1.03526926  0.          0.\n",
      "   0.          5.31381464  0.          0.          3.59103918  4.01049995\n",
      "   0.          1.67447734  0.          0.          2.7813344   0.          0.\n",
      "   0.          0.          1.76818252  5.47540236  4.27703953  3.01535988\n",
      "   0.          0.          0.59004122  0.          0.          3.61456203\n",
      "   0.          1.32712781  3.05374813  4.02648544  0.          0.\n",
      "   4.1422348   0.          0.          0.          5.07250071  0.\n",
      "   0.22565894  0.          0.          0.12273712  0.          0.          0.\n",
      "   0.          4.64109087  0.          1.32115233  0.          3.60264945\n",
      "   0.          0.          0.          0.          0.          0.          0.\n",
      "   0.          3.90360451  0.          0.          0.          0.\n",
      "   0.18509166  0.          0.          0.          5.37313128  0.98282945\n",
      "   0.          3.06183004  0.          2.94176984  0.          0.\n",
      "   1.03231609  5.65155602]]\n"
     ]
    }
   ],
   "source": [
    "# http://d.hatena.ne.jp/natsutan/20170219/1487515186\n",
    "from keras import backend as K\n",
    "get_1st_layer_output = K.function([model.layers[0].input],\n",
    "                                  [model.layers[5].output])\n",
    "layer_output = get_1st_layer_output([x,])\n",
    "print(layer_output[0].shape)\n",
    "print(layer_output[0])"
   ]
  },
  {
   "cell_type": "code",
   "execution_count": 92,
   "metadata": {
    "collapsed": true
   },
   "outputs": [],
   "source": [
    "# sklearn\n",
    "from sklearn import datasets, model_selection, svm, metrics\n",
    "mnist = datasets.fetch_mldata('MNIST original', data_home='data/src/download/')\n",
    "mnist_data = mnist.data / 255\n",
    "mnist_label = mnist.target"
   ]
  },
  {
   "cell_type": "code",
   "execution_count": 93,
   "metadata": {
    "collapsed": false
   },
   "outputs": [],
   "source": [
    "train_size = 10000\n",
    "test_size = 2000\n",
    "data_train, data_test, label_train, label_test = model_selection.train_test_split(\n",
    "    mnist_data, mnist_label, test_size=test_size, train_size=train_size\n",
    ")"
   ]
  },
  {
   "cell_type": "code",
   "execution_count": 94,
   "metadata": {
    "collapsed": false
   },
   "outputs": [],
   "source": [
    "num_images_train = _data_train.shape[0]\n",
    "data_train = _data_train.reshape((num_images_train, 28, 28, 1))\n",
    "num_images_test = _data_test.shape[0]\n",
    "data_test = _data_test.reshape((num_images_test, 28, 28, 1))"
   ]
  },
  {
   "cell_type": "code",
   "execution_count": 95,
   "metadata": {
    "collapsed": false
   },
   "outputs": [
    {
     "name": "stdout",
     "output_type": "stream",
     "text": [
      "(10000, 28, 28, 1)\n",
      "(2000, 28, 28, 1)\n"
     ]
    }
   ],
   "source": [
    "print(data_train.shape)\n",
    "print(data_test.shape)"
   ]
  },
  {
   "cell_type": "code",
   "execution_count": 96,
   "metadata": {
    "collapsed": false
   },
   "outputs": [],
   "source": [
    "\n",
    "data_train_feature = get_1st_layer_output([data_train,])[0]\n",
    "data_test_feature = get_1st_layer_output([data_test,])[0]"
   ]
  },
  {
   "cell_type": "code",
   "execution_count": null,
   "metadata": {
    "collapsed": false
   },
   "outputs": [],
   "source": [
    "# Feature extract: cnn, clasification: svm\n",
    "clf = svm.LinearSVC()\n",
    "clf.fit(data_train_feature, label_train)\n",
    "pre = clf.predict(data_test_feature)"
   ]
  },
  {
   "cell_type": "code",
   "execution_count": 98,
   "metadata": {
    "collapsed": false
   },
   "outputs": [
    {
     "name": "stdout",
     "output_type": "stream",
     "text": [
      "0.098\n"
     ]
    }
   ],
   "source": [
    "ac_score = metrics.accuracy_score(label_test, pre)\n",
    "print(ac_score)"
   ]
  },
  {
   "cell_type": "code",
   "execution_count": 99,
   "metadata": {
    "collapsed": false
   },
   "outputs": [],
   "source": [
    "# only CNN\n",
    "result = model.predict([data_test, ])\n",
    "pre = [np.argmax(_) for _ in result]"
   ]
  },
  {
   "cell_type": "code",
   "execution_count": 100,
   "metadata": {
    "collapsed": false
   },
   "outputs": [
    {
     "name": "stdout",
     "output_type": "stream",
     "text": [
      "0.097\n"
     ]
    }
   ],
   "source": [
    "ac_score = metrics.accuracy_score(label_test, pre)\n",
    "print(ac_score)"
   ]
  }
 ],
 "metadata": {
  "kernelspec": {
   "display_name": "Python 3",
   "language": "python",
   "name": "python3"
  },
  "language_info": {
   "codemirror_mode": {
    "name": "ipython",
    "version": 3
   },
   "file_extension": ".py",
   "mimetype": "text/x-python",
   "name": "python",
   "nbconvert_exporter": "python",
   "pygments_lexer": "ipython3",
   "version": "3.6.0"
  }
 },
 "nbformat": 4,
 "nbformat_minor": 2
}
