{
 "cells": [
  {
   "cell_type": "code",
   "execution_count": 4,
   "metadata": {
    "collapsed": true
   },
   "outputs": [],
   "source": [
    "# https://note.nkmk.me/python-scikit-learn-svm-mnist/ "
   ]
  },
  {
   "cell_type": "code",
   "execution_count": null,
   "metadata": {
    "collapsed": true
   },
   "outputs": [],
   "source": []
  },
  {
   "cell_type": "code",
   "execution_count": 1,
   "metadata": {
    "collapsed": true
   },
   "outputs": [],
   "source": [
    "from sklearn import datasets, model_selection, svm, metrics"
   ]
  },
  {
   "cell_type": "code",
   "execution_count": 2,
   "metadata": {
    "collapsed": true
   },
   "outputs": [],
   "source": [
    "mnist = datasets.fetch_mldata('MNIST original', data_home='data/src/download/')"
   ]
  },
  {
   "cell_type": "code",
   "execution_count": 5,
   "metadata": {
    "collapsed": false
   },
   "outputs": [
    {
     "name": "stdout",
     "output_type": "stream",
     "text": [
      "<class 'sklearn.datasets.base.Bunch'>\n",
      "dict_keys(['DESCR', 'COL_NAMES', 'target', 'data'])\n"
     ]
    }
   ],
   "source": [
    "print(type(mnist))\n",
    "print(mnist.keys())"
   ]
  },
  {
   "cell_type": "code",
   "execution_count": 8,
   "metadata": {
    "collapsed": false
   },
   "outputs": [],
   "source": [
    "mnist_data = mnist.data / 255\n",
    "mnist_label = mnist.target"
   ]
  },
  {
   "cell_type": "code",
   "execution_count": 11,
   "metadata": {
    "collapsed": false
   },
   "outputs": [
    {
     "name": "stdout",
     "output_type": "stream",
     "text": [
      "(70000, 784)\n",
      "(70000,)\n"
     ]
    }
   ],
   "source": [
    "print(mnist_data.shape)\n",
    "print(mnist_label.shape)"
   ]
  },
  {
   "cell_type": "code",
   "execution_count": 14,
   "metadata": {
    "collapsed": true
   },
   "outputs": [],
   "source": [
    "train_size = 500\n",
    "test_size = 100\n",
    "data_train, data_test, label_train, label_test = model_selection.train_test_split(\n",
    "    mnist_data, mnist_label, test_size=test_size, train_size=train_size\n",
    ")"
   ]
  },
  {
   "cell_type": "code",
   "execution_count": 18,
   "metadata": {
    "collapsed": false
   },
   "outputs": [
    {
     "name": "stdout",
     "output_type": "stream",
     "text": [
      "0.78\n"
     ]
    }
   ],
   "source": [
    "clf = svm.SVC()\n",
    "clf.fit(data_train, label_train)\n",
    "pre = clf.predict(data_test)\n",
    "ac_score = metrics.accuracy_score(label_test, pre)\n",
    "print(ac_score)"
   ]
  },
  {
   "cell_type": "code",
   "execution_count": 19,
   "metadata": {
    "collapsed": false
   },
   "outputs": [
    {
     "name": "stdout",
     "output_type": "stream",
     "text": [
      "0.8\n"
     ]
    }
   ],
   "source": [
    "clf = svm.LinearSVC()\n",
    "clf.fit(data_train, label_train)\n",
    "pre = clf.predict(data_test)\n",
    "ac_score = metrics.accuracy_score(label_test, pre)\n",
    "print(ac_score)"
   ]
  },
  {
   "cell_type": "code",
   "execution_count": 21,
   "metadata": {
    "collapsed": false
   },
   "outputs": [
    {
     "name": "stdout",
     "output_type": "stream",
     "text": [
      "0.8885\n"
     ]
    }
   ],
   "source": [
    "train_size = 10000\n",
    "test_size = 2000\n",
    "data_train, data_test, label_train, label_test = model_selection.train_test_split(\n",
    "    mnist_data, mnist_label, test_size=test_size, train_size=train_size\n",
    ")\n",
    "\n",
    "clf = svm.LinearSVC()\n",
    "clf.fit(data_train, label_train)\n",
    "pre = clf.predict(data_test)\n",
    "\n",
    "ac_score = metrics.accuracy_score(label_test, pre)\n",
    "print(ac_score)"
   ]
  },
  {
   "cell_type": "code",
   "execution_count": 23,
   "metadata": {
    "collapsed": false
   },
   "outputs": [
    {
     "name": "stdout",
     "output_type": "stream",
     "text": [
      "[[164   0   1   0   0   3   1   1   1   0]\n",
      " [  0 229   2   3   2   1   0   0   6   1]\n",
      " [  2   2 159   8   4   3   2   2   8   1]\n",
      " [  0   0   8 175   0   6   5   2   8   2]\n",
      " [  1   2   2   0 174   0   1   0   2  10]\n",
      " [  1   0   1   6   2 155   5   0   6   1]\n",
      " [  1   3   0   0   2   6 164   0   2   0]\n",
      " [  1   2   2   5   4   4   1 194   1   5]\n",
      " [  0   7   2   4   0   7   1   0 193   2]\n",
      " [  1   2   0   1  14   1   0  16   1 170]]\n"
     ]
    }
   ],
   "source": [
    "co_mat = metrics.confusion_matrix(label_test, pre)\n",
    "print(co_mat)"
   ]
  }
 ],
 "metadata": {
  "kernelspec": {
   "display_name": "Python 3",
   "language": "python",
   "name": "python3"
  },
  "language_info": {
   "codemirror_mode": {
    "name": "ipython",
    "version": 3
   },
   "file_extension": ".py",
   "mimetype": "text/x-python",
   "name": "python",
   "nbconvert_exporter": "python",
   "pygments_lexer": "ipython3",
   "version": "3.6.0"
  }
 },
 "nbformat": 4,
 "nbformat_minor": 2
}
